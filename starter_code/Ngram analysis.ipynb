{
 "cells": [
  {
   "cell_type": "code",
   "execution_count": 73,
   "metadata": {},
   "outputs": [],
   "source": [
    "from nltk.corpus import stopwords\n",
    "import pandas as pd\n",
    "import nltk\n",
    "import re\n",
    "import unicodedata\n",
    "from textblob import TextBlob\n",
    "from sklearn.feature_extraction.text import CountVectorizer\n",
    "from sklearn.decomposition import LatentDirichletAllocation\n",
    "from sklearn.feature_extraction.text import TfidfVectorizer\n",
    "from sklearn.pipeline import make_pipeline\n",
    "from nltk import word_tokenize\n",
    "import preprocessor.api as p\n",
    "import matplotlib.pyplot as plt\n",
    "\n",
    "data = pd.read_csv('2018_food_clean.csv')"
   ]
  },
  {
   "cell_type": "code",
   "execution_count": 74,
   "metadata": {},
   "outputs": [],
   "source": [
    "clean = []\n",
    "for i,v in enumerate(data['captions']):\n",
    "    temp = p.clean(str(v))\n",
    "    clean.append(temp)\n",
    "data['clean'] = clean\n",
    "\n",
    "stoplist = stopwords.words('english')\n",
    "stoplist.extend(['link', 'bio', 'foodstagram', 'foodblogger',\n",
    "                   'foodblogger', 'travelblogger', 'tag', 'picoftheday',\n",
    "                   'instadaily', 'like', 'follow', 'discount', 'game',\n",
    "                   'tsp', 'tbsp', '[', ']', 'na', 'teaspoon', 'get', 'us'\n",
    "                   'food', 'time', 'recipe', 'de', 'well', 'little', 'love',\n",
    "                   'make', 'day', 'order', 'today', 'delivery', 'dinner', 'meal'\n",
    "                   'im', 'dont', 'try', 'sunday', 'need', 'ingredients', 'saturday'\n",
    "                   'weekend', 'place', 'want', 'think', 'lunch', 'bowl', 'dish',\n",
    "                   'help', 'perfect', 'week', 'home', 'post', \"'i'm\", 'cup', 'travel',\n",
    "                   'travelphotography', 'follow4follow', 'travelphotography', 'travelgramsky'\n",
    "                   'instafollow', 'instagood', 'followme', 'bestoftheday', 'smile', 'instalike',\n",
    "                   'foodlover', 'let', 'know', 'like4like', 'clevelandohio', 'new', 'latino'])"
   ]
  },
  {
   "cell_type": "code",
   "execution_count": 53,
   "metadata": {},
   "outputs": [],
   "source": [
    "c_vec = CountVectorizer(stop_words=stoplist, ngram_range=(2,2))\n",
    "# matrix of ngrams\n",
    "ngrams = c_vec.fit_transform(data['clean'].values.astype('U'))\n",
    "# count frequency of ngrams\n",
    "count_values = ngrams.toarray().sum(axis=0)\n",
    "# list of ngrams.\n",
    "vocab = c_vec.vocabulary_\n",
    "\n",
    "data_ngram = pd.DataFrame(sorted([(count_values[i], k) for k, i in vocab.items()], reverse=True)).rename(columns={0: 'frequency', 1: 'bigram'})"
   ]
  },
  {
   "cell_type": "code",
   "execution_count": 75,
   "metadata": {},
   "outputs": [],
   "source": [
    "def basic_clean(text):\n",
    "  \"\"\"\n",
    "  A simple function to clean up the data. All the words that\n",
    "  are not designated as a stop word is then lemmatized after\n",
    "  encoding and basic regex parsing are performed.\n",
    "  \"\"\"\n",
    "  wnl = nltk.stem.WordNetLemmatizer()\n",
    "  text = (unicodedata.normalize('NFKD', text)\n",
    "    .encode('ascii', 'ignore')\n",
    "    .decode('utf-8', 'ignore')\n",
    "    .lower())\n",
    "  words = re.sub(r'[^\\w\\s]', '', text).split()\n",
    "  return [wnl.lemmatize(word) for word in words if word not in stoplist]"
   ]
  },
  {
   "cell_type": "code",
   "execution_count": 77,
   "metadata": {},
   "outputs": [
    {
     "data": {
      "text/plain": [
       "<matplotlib.axes._subplots.AxesSubplot at 0x268117372c8>"
      ]
     },
     "execution_count": 77,
     "metadata": {},
     "output_type": "execute_result"
    },
    {
     "data": {
      "image/png": "[encoded data removed]",
      "text/plain": [
       "<Figure size 864x576 with 1 Axes>"
      ]
     },
     "metadata": {
      "needs_background": "light"
     },
     "output_type": "display_data"
    }
   ],
   "source": [
    "words = basic_clean(''.join(str(data['clean'].tolist())))\n",
    "bigram_series = (pd.Series(nltk.ngrams(words, 2)).value_counts())[:10]\n",
    "\n",
    "bigram_series.sort_values().plot.barh(color='red', width=0.9, figsize=(12,8))"
   ]
  },
  {
   "cell_type": "code",
   "execution_count": 54,
   "metadata": {},
   "outputs": [
    {
     "name": "stdout",
     "output_type": "stream",
     "text": [
      "0                        olive oil\n",
      "1                      salt pepper\n",
      "2                   meat meatlover\n",
      "3     healthylifestyle healthyfood\n",
      "4              healthyfood healthy\n",
      "5                     sweet potato\n",
      "6     healthyfood healthylifestyle\n",
      "7              healthy healthyfood\n",
      "8                      gluten free\n",
      "9                   like4like look\n",
      "10                instafollow girl\n",
      "11               amazing like4like\n",
      "Name: bigram, dtype: object\n"
     ]
    }
   ],
   "source": [
    "print(bigram_series.head(12))"
   ]
  },
  {
   "cell_type": "code",
   "execution_count": null,
   "metadata": {},
   "outputs": [],
   "source": []
  },
  {
   "cell_type": "code",
   "execution_count": 78,
   "metadata": {},
   "outputs": [],
   "source": [
    "data_ngram['polarity'] = data_ngram['bigram/trigram'].apply(lambda x: TextBlob(x).polarity)\n",
    "data_ngram['subjective'] = data_ngram['bigram/trigram'].apply(lambda x: TextBlob(x).subjectivity)"
   ]
  },
  {
   "cell_type": "code",
   "execution_count": 36,
   "metadata": {},
   "outputs": [
    {
     "name": "stdout",
     "output_type": "stream",
     "text": [
      "        frequency                 bigram/trigram  polarity  subjective\n",
      "0             227                    balam xelha       0.0    0.000000\n",
      "1             222                     xelha yuki       0.0    0.000000\n",
      "2             215               balam xelha yuki       0.0    0.000000\n",
      "3             208    petsofworld petsofinstagram       0.0    0.000000\n",
      "4             208  pawprints animallover pawclub       0.0    0.000000\n",
      "...           ...                            ...       ...         ...\n",
      "110865          1              02032021 crossfit       0.0    0.000000\n",
      "110866          1               01376 340 307408       0.0    0.000000\n",
      "110867          1                      01376 340       0.0    0.000000\n",
      "110868          1                  0000 eet last       0.0    0.066667\n",
      "110869          1                       0000 eet       0.0    0.000000\n",
      "\n",
      "[110870 rows x 4 columns]\n"
     ]
    }
   ],
   "source": [
    "print(data_ngram)"
   ]
  },
  {
   "cell_type": "code",
   "execution_count": 84,
   "metadata": {},
   "outputs": [
    {
     "name": "stdout",
     "output_type": "stream",
     "text": [
      "Topic #0: petlover peekitos pawprints, mexipets mykidshavepaws lovemyfurfriends, petlover peekitos\n",
      "Topic #1: teamtrufita teambibrisas, healthypets mexicanpets, petlover pawprints animallover\n",
      "Topic #2: nogamenolife jibril, tagsignore shirosorashirosora, jibril stephlove\n",
      "\n"
     ]
    }
   ],
   "source": [
    "'''Builds a LDA model'''\n",
    "\n",
    "tfidf_vectorizer = TfidfVectorizer(stop_words=stoplist, ngram_range=(2,3))\n",
    "lda = LatentDirichletAllocation(n_components=3)\n",
    "pipe = make_pipeline(tfidf_vectorizer, lda)\n",
    "pipe.fit(data['captions'].values.astype('U'))\n",
    "\n",
    "def print_top_words(model, feature_names, n_top_words):\n",
    "    for topic_idx, topic in enumerate(model.components_):\n",
    "        message = \"Topic #%d: \" %topic_idx\n",
    "        message += \", \".join([feature_names[i] for i in topic.argsort()[:-n_top_words - 1:-1]])\n",
    "        print(message)\n",
    "    print()\n",
    "    \n",
    "print_top_words(lda, tfidf_vectorizer.get_feature_names(), n_top_words=3)"
   ]
  },
  {
   "cell_type": "code",
   "execution_count": 80,
   "metadata": {
    "scrolled": true
   },
   "outputs": [],
   "source": [
    "tfidf = TfidfVectorizer(stop_words=stoplist, ngram_range=(2,3))\n",
    "tfidfngrams = tfidf.fit_transform(data['captions'].values.astype('U')) \n",
    "tfidf_val = tfidfngrams.sum(axis=0)\n",
    "data1 = []\n",
    "for col, term in enumerate(c_vec.get_feature_names()):\n",
    "    data1.append((term, tfidf_val[0,col]))\n",
    "ranking = pd.DataFrame(data1, columns= ['term', 'rank']).sort_values('rank', ascending=False)\n",
    "ranking.to_csv('2018_companies_tfidf.csv')"
   ]
  },
  {
   "cell_type": "code",
   "execution_count": 81,
   "metadata": {},
   "outputs": [],
   "source": [
    "data_ngram.to_csv('2018_companies_ngrams.csv', index=False)"
   ]
  }
 ],
 "metadata": {
  "kernelspec": {
   "display_name": "Python 3",
   "language": "python",
   "name": "python3"
  },
  "language_info": {
   "codemirror_mode": {
    "name": "ipython",
    "version": 3
   },
   "file_extension": ".py",
   "mimetype": "text/x-python",
   "name": "python",
   "nbconvert_exporter": "python",
   "pygments_lexer": "ipython3",
   "version": "3.7.4"
  }
 },
 "nbformat": 4,
 "nbformat_minor": 2
}
