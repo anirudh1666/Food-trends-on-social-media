{
 "cells": [
  {
   "cell_type": "code",
   "execution_count": null,
   "metadata": {},
   "outputs": [],
   "source": [
    "#import libraries\n",
    "\n",
    "import pandas as pd\n",
    "import numpy as np\n",
    "import seaborn as sns\n",
    "import matplotlib.pyplot as plt\n",
    "%matplotlib inline\n",
    "\n",
    "import tweepy\n",
    "import time\n",
    "from tweepy.error import TweepError\n",
    "\n",
    "import string\n",
    "import nltk\n",
    "from nltk import word_tokenize, FreqDist\n",
    "from nltk.corpus import stopwords\n",
    "from nltk.tokenize import TweetTokenizer\n",
    "from nltk.stem import WordNetLemmatizer\n",
    "from nltk.stem.porter import PorterStemmer\n",
    "import re"
   ]
  },
  {
   "cell_type": "markdown",
   "metadata": {},
   "source": [
    "**Twitter API: getting started**\n",
    "\n",
    "https://developer.twitter.com/en/docs/twitter-api/getting-started/guide"
   ]
  },
  {
   "cell_type": "markdown",
   "metadata": {},
   "source": [
    "**Set up access to Twitter API**"
   ]
  },
  {
   "cell_type": "code",
   "execution_count": null,
   "metadata": {},
   "outputs": [],
   "source": [
    "#variables that contain the credentials to access Twitter API\n",
    "#add your credentials\n",
    "ACCESS_TOKEN = YOUR_ACCESS_TOKEN\n",
    "ACCESS_SECRET = YOUR_ACCESS_SECRET\n",
    "CONSUMER_KEY = YOUR_CONSUMER_KEY\n",
    "CONSUMER_SECRET = YOUR_CONSUMER_SECRET\n",
    "\n",
    "\n",
    "#setup access to API\n",
    "def connect_to_twitter_OAuth():\n",
    "    auth = tweepy.OAuthHandler(CONSUMER_KEY, CONSUMER_SECRET)\n",
    "    auth.set_access_token(ACCESS_TOKEN, ACCESS_SECRET)\n",
    "\n",
    "    api = tweepy.API(auth, wait_on_rate_limit=True,wait_on_rate_limit_notify=True, compression=True)\n",
    "    return api\n",
    "\n",
    "\n",
    "# Create API object\n",
    "api = connect_to_twitter_OAuth()"
   ]
  },
  {
   "cell_type": "markdown",
   "metadata": {},
   "source": [
    "**Data collection**"
   ]
  },
  {
   "cell_type": "code",
   "execution_count": null,
   "metadata": {},
   "outputs": [],
   "source": [
    "#specify hashtag, time interval and no of items\n",
    "\n",
    "msgs = []\n",
    "\n",
    "for tweet in tweepy.Cursor(api.search, q='#recipebox', lang= 'en', since='2020-12-01', until='2020-12-08',\n",
    "                           wait_on_rate_limit=True).items(1000):\n",
    "    try:\n",
    "        msg = [tweet.text, tweet.favorite_count, tweet.retweet_count]\n",
    "        msgs.append(msg)\n",
    "    except TweepError:\n",
    "        time.sleep(60)\n",
    "        continue\n",
    "\n",
    "df = pd.DataFrame(msgs, columns=['text', 'likes', 'retweets'])"
   ]
  },
  {
   "cell_type": "code",
   "execution_count": null,
   "metadata": {},
   "outputs": [],
   "source": []
  },
  {
   "cell_type": "code",
   "execution_count": null,
   "metadata": {},
   "outputs": [],
   "source": []
  }
 ],
 "metadata": {
  "kernelspec": {
   "display_name": "Python 3",
   "language": "python",
   "name": "python3"
  },
  "language_info": {
   "codemirror_mode": {
    "name": "ipython",
    "version": 3
   },
   "file_extension": ".py",
   "mimetype": "text/x-python",
   "name": "python",
   "nbconvert_exporter": "python",
   "pygments_lexer": "ipython3",
   "version": "3.7.4"
  }
 },
 "nbformat": 4,
 "nbformat_minor": 4
}