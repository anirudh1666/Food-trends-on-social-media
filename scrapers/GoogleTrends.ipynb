{
 "cells": [
  {
   "cell_type": "code",
   "execution_count": 1,
   "metadata": {},
   "outputs": [
    {
     "name": "stdout",
     "output_type": "stream",
     "text": [
      "Collecting pytrends\n",
      "  Using cached https://files.pythonhosted.org/packages/96/53/a4a74c33bfdbe1740183e00769377352072e64182913562daf9f5e4f1938/pytrends-4.7.3-py3-none-any.whl\n",
      "Requirement already satisfied: pandas>=0.25 in /Users/hiru/opt/anaconda3/lib/python3.7/site-packages (from pytrends) (0.25.1)\n",
      "Requirement already satisfied: requests in /Users/hiru/opt/anaconda3/lib/python3.7/site-packages (from pytrends) (2.22.0)\n",
      "Requirement already satisfied: lxml in /Users/hiru/opt/anaconda3/lib/python3.7/site-packages (from pytrends) (4.4.1)\n",
      "Requirement already satisfied: python-dateutil>=2.6.1 in /Users/hiru/opt/anaconda3/lib/python3.7/site-packages (from pandas>=0.25->pytrends) (2.8.0)\n",
      "Requirement already satisfied: pytz>=2017.2 in /Users/hiru/opt/anaconda3/lib/python3.7/site-packages (from pandas>=0.25->pytrends) (2019.3)\n",
      "Requirement already satisfied: numpy>=1.13.3 in /Users/hiru/opt/anaconda3/lib/python3.7/site-packages (from pandas>=0.25->pytrends) (1.17.2)\n",
      "Requirement already satisfied: chardet<3.1.0,>=3.0.2 in /Users/hiru/opt/anaconda3/lib/python3.7/site-packages (from requests->pytrends) (3.0.4)\n",
      "Requirement already satisfied: idna<2.9,>=2.5 in /Users/hiru/opt/anaconda3/lib/python3.7/site-packages (from requests->pytrends) (2.8)\n",
      "Requirement already satisfied: certifi>=2017.4.17 in /Users/hiru/opt/anaconda3/lib/python3.7/site-packages (from requests->pytrends) (2019.9.11)\n",
      "Requirement already satisfied: urllib3!=1.25.0,!=1.25.1,<1.26,>=1.21.1 in /Users/hiru/opt/anaconda3/lib/python3.7/site-packages (from requests->pytrends) (1.24.2)\n",
      "Requirement already satisfied: six>=1.5 in /Users/hiru/opt/anaconda3/lib/python3.7/site-packages (from python-dateutil>=2.6.1->pandas>=0.25->pytrends) (1.12.0)\n",
      "Installing collected packages: pytrends\n",
      "Successfully installed pytrends-4.7.3\n"
     ]
    }
   ],
   "source": [
    "!pip install pytrends"
   ]
  },
  {
   "cell_type": "code",
   "execution_count": 13,
   "metadata": {},
   "outputs": [],
   "source": [
    "import pandas as pd\n",
    "from pytrends.request import TrendReq\n",
    "\n",
    "pytrend = TrendReq()"
   ]
  },
  {
   "cell_type": "code",
   "execution_count": 15,
   "metadata": {},
   "outputs": [
    {
     "data": {
      "text/plain": [
       "dict_values([{'top':                           query  value\n",
       "0        chicken breast recipes    100\n",
       "1                chicken breast     95\n",
       "2                chicken recipe     95\n",
       "3          recipes with chicken     77\n",
       "4           recipes for chicken     67\n",
       "5          easy chicken recipes     55\n",
       "6                  easy recipes     54\n",
       "7       healthy chicken recipes     40\n",
       "8               healthy recipes     38\n",
       "9                 baked chicken     33\n",
       "10        baked chicken recipes     33\n",
       "11        chicken thigh recipes     32\n",
       "12                 soup recipes     30\n",
       "13         chicken soup recipes     29\n",
       "14                 chicken soup     29\n",
       "15                 rice recipes     28\n",
       "16                pasta recipes     26\n",
       "17               dinner recipes     26\n",
       "18       chicken dinner recipes     26\n",
       "19  chicken slow cooker recipes     26\n",
       "20          slow cooker recipes     26\n",
       "21        chicken pasta recipes     26\n",
       "22          slow cooker chicken     25\n",
       "23         best chicken recipes     24\n",
       "24     chicken crockpot recipes     23, 'rising':                                       query  value\n",
       "0        instant pot chicken breast recipes  23700\n",
       "1                       instant pot recipes  18550\n",
       "2               instant pot chicken recipes  16500\n",
       "3                               instant pot  15850\n",
       "4                       instant pot chicken  15200\n",
       "5                      chicken keto recipes   9650\n",
       "6         instant pot chicken thigh recipes   8450\n",
       "7                              keto recipes   8150\n",
       "8                         air fryer recipes   8050\n",
       "9                 air fryer chicken recipes   7550\n",
       "10        instant pot whole chicken recipes   7550\n",
       "11       frozen chicken instant pot recipes   7100\n",
       "12              keto chicken breast recipes   6900\n",
       "13                 whole 30 chicken recipes    450\n",
       "14  boneless skinless chicken thigh recipes    200\n",
       "15                    tasty chicken recipes    190\n",
       "16           skinless chicken thigh recipes    190\n",
       "17           boneless chicken thigh recipes    130\n",
       "18                   slimming world recipes    130\n",
       "19           slimming world chicken recipes    120\n",
       "20            recipes with shredded chicken    120\n",
       "21            healthy chicken thigh recipes    100\n",
       "22                  one pot chicken recipes    100\n",
       "23          crockpot chicken breast recipes     90\n",
       "24          pressure cooker chicken recipes     90}])"
      ]
     },
     "execution_count": 15,
     "metadata": {},
     "output_type": "execute_result"
    }
   ],
   "source": [
    "pytrend.build_payload(kw_list=['chicken recipes'])\n",
    "related_queries = pytrend.related_queries()\n",
    "related_queries.values()"
   ]
  },
  {
   "cell_type": "code",
   "execution_count": null,
   "metadata": {},
   "outputs": [],
   "source": []
  }
 ],
 "metadata": {
  "kernelspec": {
   "display_name": "Python 3",
   "language": "python",
   "name": "python3"
  },
  "language_info": {
   "codemirror_mode": {
    "name": "ipython",
    "version": 3
   },
   "file_extension": ".py",
   "mimetype": "text/x-python",
   "name": "python",
   "nbconvert_exporter": "python",
   "pygments_lexer": "ipython3",
   "version": "3.7.4"
  }
 },
 "nbformat": 4,
 "nbformat_minor": 2
}
