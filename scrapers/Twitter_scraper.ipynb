{
 "cells": [
  {
   "cell_type": "code",
   "execution_count": 15,
   "metadata": {},
   "outputs": [],
   "source": [
    "#import libraries\n",
    "\n",
    "import pandas as pd\n",
    "import numpy as np\n",
    "import seaborn as sns\n",
    "import matplotlib.pyplot as plt\n",
    "%matplotlib inline\n",
    "\n",
    "import tweepy\n",
    "import time\n",
    "from tweepy.error import TweepError\n",
    "\n",
    "import string\n",
    "import nltk\n",
    "from nltk import word_tokenize, FreqDist\n",
    "from nltk.corpus import stopwords\n",
    "from nltk.tokenize import TweetTokenizer\n",
    "from nltk.stem import WordNetLemmatizer\n",
    "from nltk.stem.porter import PorterStemmer\n",
    "import re\n",
    "from decouple import config"
   ]
  },
  {
   "cell_type": "markdown",
   "metadata": {},
   "source": [
    "**Twitter API: getting started**\n",
    "\n",
    "https://developer.twitter.com/en/docs/twitter-api/getting-started/guide"
   ]
  },
  {
   "cell_type": "markdown",
   "metadata": {},
   "source": [
    "**Set up access to Twitter API**"
   ]
  },
  {
   "cell_type": "code",
   "execution_count": 16,
   "metadata": {},
   "outputs": [],
   "source": [
    "#variables that contain the credentials to access Twitter API\n",
    "#add your credentials\n",
    "ACCESS_TOKEN = config('ACCESS_TOKEN')\n",
    "ACCESS_SECRET = config('ACCESS_SECRET')\n",
    "CONSUMER_KEY = config('CONSUMER_KEY')\n",
    "CONSUMER_SECRET = config('CONSUMER_SECRET')\n",
    "\n",
    "\n",
    "#setup access to API\n",
    "def connect_to_twitter_OAuth():\n",
    "    auth = tweepy.OAuthHandler(CONSUMER_KEY, CONSUMER_SECRET)\n",
    "    auth.set_access_token(ACCESS_TOKEN, ACCESS_SECRET)\n",
    "\n",
    "    api = tweepy.API(auth, wait_on_rate_limit=True,wait_on_rate_limit_notify=True, compression=True)\n",
    "    return api\n",
    "\n",
    "\n",
    "# Create API object\n",
    "api = connect_to_twitter_OAuth()"
   ]
  },
  {
   "cell_type": "code",
   "execution_count": 63,
   "metadata": {},
   "outputs": [
    {
     "name": "stdout",
     "output_type": "stream",
     "text": [
      "Theator, an NVIDIA Inception member, aims to become the brain behind autonomous surgery. #DataScience… https://t.co/H5JJOiiJVZ\n",
      "Maryland To Become First State To Tax Online Ads Sold By Facebook and Google. https://t.co/sKtIcFwUGf\n",
      "RT @adamvaughan_uk: .@stubutchart: “There’s lots of doom &amp; gloom stories about biodiversity. It would be easy to feel conservation was a po…\n"
     ]
    }
   ],
   "source": [
    "# Testing API connection\n",
    "public_tweets = api.home_timeline()\n",
    "for tweet in public_tweets[:3]:\n",
    "    print(tweet.text)"
   ]
  },
  {
   "cell_type": "markdown",
   "metadata": {},
   "source": [
    "**Data collection**"
   ]
  },
  {
   "cell_type": "code",
   "execution_count": 70,
   "metadata": {},
   "outputs": [
    {
     "name": "stdout",
     "output_type": "stream",
     "text": [
      "Searching Hashtag: #mindfulchef\n",
      "Searching Hashtag: #hellofresh\n",
      "Searching Hashtag: #gousto\n",
      "Searching Hashtag: #simplycook\n",
      "Searching Hashtag: #abelandcole\n",
      "Searching Hashtag: #morrisonseatfresh\n",
      "Searching Hashtag: #riverfordorganicfarmers\n",
      "Searching Hashtag: #allplants\n"
     ]
    }
   ],
   "source": [
    "#specify hashtag, time interval and no of items\n",
    "\n",
    "msgs = []\n",
    "\n",
    "food_hashtags = ['#cooking', '#ingredients', '#recipes', '#vegetarian', '#vegan', '#healthfood', '#healthyrecipe', '#recipebox']\n",
    "comp_hashtags = ['#mindfulchef', '#hellofresh', '#gousto', '#simplycook', '#abelandcole', '#morrisonseatfresh', '#riverfordorganicfarmers', '#allplants']\n",
    "\n",
    "for hashtag in comp_hashtags:\n",
    "    print('Searching Hashtag:', hashtag)\n",
    "    for tweet in tweepy.Cursor(api.search, q=hashtag, lang= 'en', since='2021-02-08', until='2021-02-17').items(1000):\n",
    "        try:\n",
    "            msg = [tweet.text, tweet.favorite_count, tweet.retweet_count, pd.Timestamp(tweet.created_at), hashtag]\n",
    "            msgs.append(msg)\n",
    "        except TweepError:\n",
    "            print('Error, trying again in 60 secs...')\n",
    "            time.sleep(60)\n",
    "            print('Restarting')\n",
    "            continue\n",
    "\n",
    "df = pd.DataFrame(msgs, columns=['text', 'likes', 'retweets', 'created_at','hashtag'])"
   ]
  },
  {
   "cell_type": "code",
   "execution_count": 71,
   "metadata": {},
   "outputs": [
    {
     "data": {
      "text/plain": [
       "209"
      ]
     },
     "execution_count": 71,
     "metadata": {},
     "output_type": "execute_result"
    }
   ],
   "source": [
    "len(df)"
   ]
  },
  {
   "cell_type": "code",
   "execution_count": 72,
   "metadata": {},
   "outputs": [
    {
     "data": {
      "text/html": [
       "<div>\n",
       "<style scoped>\n",
       "    .dataframe tbody tr th:only-of-type {\n",
       "        vertical-align: middle;\n",
       "    }\n",
       "\n",
       "    .dataframe tbody tr th {\n",
       "        vertical-align: top;\n",
       "    }\n",
       "\n",
       "    .dataframe thead th {\n",
       "        text-align: right;\n",
       "    }\n",
       "</style>\n",
       "<table border=\"1\" class=\"dataframe\">\n",
       "  <thead>\n",
       "    <tr style=\"text-align: right;\">\n",
       "      <th></th>\n",
       "      <th>text</th>\n",
       "      <th>likes</th>\n",
       "      <th>retweets</th>\n",
       "      <th>created_at</th>\n",
       "      <th>hashtag</th>\n",
       "    </tr>\n",
       "  </thead>\n",
       "  <tbody>\n",
       "    <tr>\n",
       "      <td>0</td>\n",
       "      <td>RT @MindfulChefUK: Celebrate #PancakeDay the h...</td>\n",
       "      <td>0</td>\n",
       "      <td>1</td>\n",
       "      <td>2021-02-16 18:38:50</td>\n",
       "      <td>#mindfulchef</td>\n",
       "    </tr>\n",
       "    <tr>\n",
       "      <td>1</td>\n",
       "      <td>Celebrate #PancakeDay the healthy way 🥞  with ...</td>\n",
       "      <td>2</td>\n",
       "      <td>1</td>\n",
       "      <td>2021-02-16 13:00:55</td>\n",
       "      <td>#mindfulchef</td>\n",
       "    </tr>\n",
       "    <tr>\n",
       "      <td>2</td>\n",
       "      <td>Turkey pasanda curry with brown rice 🥰 #monday...</td>\n",
       "      <td>0</td>\n",
       "      <td>0</td>\n",
       "      <td>2021-02-15 17:46:55</td>\n",
       "      <td>#mindfulchef</td>\n",
       "    </tr>\n",
       "    <tr>\n",
       "      <td>3</td>\n",
       "      <td>RT @MindfulChefUK: MC Virtual Events | Join Be...</td>\n",
       "      <td>0</td>\n",
       "      <td>2</td>\n",
       "      <td>2021-02-15 09:22:43</td>\n",
       "      <td>#mindfulchef</td>\n",
       "    </tr>\n",
       "    <tr>\n",
       "      <td>4</td>\n",
       "      <td>RT @MindfulChefUK: MC Virtual Events | Join Be...</td>\n",
       "      <td>0</td>\n",
       "      <td>2</td>\n",
       "      <td>2021-02-15 08:02:22</td>\n",
       "      <td>#mindfulchef</td>\n",
       "    </tr>\n",
       "  </tbody>\n",
       "</table>\n",
       "</div>"
      ],
      "text/plain": [
       "                                                text  likes  retweets  \\\n",
       "0  RT @MindfulChefUK: Celebrate #PancakeDay the h...      0         1   \n",
       "1  Celebrate #PancakeDay the healthy way 🥞  with ...      2         1   \n",
       "2  Turkey pasanda curry with brown rice 🥰 #monday...      0         0   \n",
       "3  RT @MindfulChefUK: MC Virtual Events | Join Be...      0         2   \n",
       "4  RT @MindfulChefUK: MC Virtual Events | Join Be...      0         2   \n",
       "\n",
       "           created_at       hashtag  \n",
       "0 2021-02-16 18:38:50  #mindfulchef  \n",
       "1 2021-02-16 13:00:55  #mindfulchef  \n",
       "2 2021-02-15 17:46:55  #mindfulchef  \n",
       "3 2021-02-15 09:22:43  #mindfulchef  \n",
       "4 2021-02-15 08:02:22  #mindfulchef  "
      ]
     },
     "execution_count": 72,
     "metadata": {},
     "output_type": "execute_result"
    }
   ],
   "source": [
    "df[:5]"
   ]
  },
  {
   "cell_type": "code",
   "execution_count": 73,
   "metadata": {},
   "outputs": [],
   "source": [
    "df.to_csv('../datasets/twitter_data/tweets.csv',mode='a', index=False, header=False)"
   ]
  },
  {
   "cell_type": "code",
   "execution_count": 58,
   "metadata": {},
   "outputs": [],
   "source": []
  },
  {
   "cell_type": "code",
   "execution_count": 74,
   "metadata": {},
   "outputs": [],
   "source": [
    "df2 = pd.read_csv('../datasets/twitter_data/tweets.csv')"
   ]
  },
  {
   "cell_type": "code",
   "execution_count": 75,
   "metadata": {},
   "outputs": [
    {
     "data": {
      "text/plain": [
       "7541"
      ]
     },
     "execution_count": 75,
     "metadata": {},
     "output_type": "execute_result"
    }
   ],
   "source": [
    "len(df2)"
   ]
  },
  {
   "cell_type": "code",
   "execution_count": 80,
   "metadata": {},
   "outputs": [],
   "source": [
    "df2.sort_values(by=['created_at'], na_position='first', inplace=True)"
   ]
  },
  {
   "cell_type": "code",
   "execution_count": 81,
   "metadata": {},
   "outputs": [],
   "source": [
    "df2.to_csv('../datasets/twitter_data/tweets.csv', index=False)"
   ]
  },
  {
   "cell_type": "code",
   "execution_count": null,
   "metadata": {},
   "outputs": [],
   "source": []
  }
 ],
 "metadata": {
  "kernelspec": {
   "display_name": "Python 3",
   "language": "python",
   "name": "python3"
  },
  "language_info": {
   "codemirror_mode": {
    "name": "ipython",
    "version": 3
   },
   "file_extension": ".py",
   "mimetype": "text/x-python",
   "name": "python",
   "nbconvert_exporter": "python",
   "pygments_lexer": "ipython3",
   "version": "3.7.4"
  }
 },
 "nbformat": 4,
 "nbformat_minor": 4
}
